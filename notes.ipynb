{
 "cells": [
  {
   "cell_type": "code",
   "execution_count": 1,
   "id": "fadd31e8-c4d3-48a1-b0a8-0c26dd987f39",
   "metadata": {},
   "outputs": [
    {
     "data": {
      "text/plain": [
       "'cpu'"
      ]
     },
     "execution_count": 1,
     "metadata": {},
     "output_type": "execute_result"
    }
   ],
   "source": [
    "import torch \n",
    "import numpy as np\n",
    "import time\n",
    "import os\n",
    "device='cuda' if torch.cuda.is_available() else 'cpu'\n",
    "device"
   ]
  },
  {
   "cell_type": "code",
   "execution_count": 2,
   "id": "9942b748-d61a-4ef1-af75-3c219d16e762",
   "metadata": {},
   "outputs": [
    {
     "data": {
      "text/plain": [
       "0.0"
      ]
     },
     "execution_count": 2,
     "metadata": {},
     "output_type": "execute_result"
    }
   ],
   "source": [
    "start_time=time.time()\n",
    "#operations related to matrices\n",
    "zeroes=torch.zeros(1,1)\n",
    "end_time=time.time()\n",
    "end_time-start_time"
   ]
  },
  {
   "cell_type": "code",
   "execution_count": 3,
   "id": "549d6cc2-9b2c-4bff-8c70-aad0928e5c70",
   "metadata": {},
   "outputs": [],
   "source": [
    "with open('wiz_of_oz.txt','r',encoding='utf-8') as f:\n",
    "    text=f.read()"
   ]
  },
  {
   "cell_type": "code",
   "execution_count": 4,
   "id": "b690b89f-8815-478e-96a1-8fe0f59c0f4d",
   "metadata": {},
   "outputs": [
    {
     "name": "stdout",
     "output_type": "stream",
     "text": [
      "\n",
      " !\"&'(),-.0123456789:;?ABCDEFGHIJKLMNOPQRSTUVWYZabcdefghijklmnopqrstuvwxyz﻿\n"
     ]
    },
    {
     "data": {
      "text/plain": [
       "76"
      ]
     },
     "execution_count": 4,
     "metadata": {},
     "output_type": "execute_result"
    }
   ],
   "source": [
    "chars=sorted(list(set(text)))\n",
    "vocab_size=len(chars)\n",
    "print(''.join(chars))\n",
    "vocab_size"
   ]
  },
  {
   "cell_type": "code",
   "execution_count": 5,
   "id": "646bf8d9-38bb-4b8c-8c47-081db0913a45",
   "metadata": {},
   "outputs": [],
   "source": [
    "n_embed=32"
   ]
  },
  {
   "cell_type": "code",
   "execution_count": 6,
   "id": "9df75ff8-9154-4bce-8810-ae91115cc759",
   "metadata": {},
   "outputs": [
    {
     "name": "stdout",
     "output_type": "stream",
     "text": [
      "hello\n"
     ]
    }
   ],
   "source": [
    "str_to_int={ch:i for i,ch in enumerate(chars)}\n",
    "int_to_str={i:ch for i,ch in enumerate(chars)}\n",
    "encode= lambda s: [str_to_int[c] for c in s]\n",
    "decode= lambda l: ''.join([int_to_str[i]for i in l])\n",
    "\n",
    "print(decode(encode('hello')))"
   ]
  },
  {
   "cell_type": "code",
   "execution_count": 7,
   "id": "35704ca3-cc24-4e76-a4c0-9a27711a9797",
   "metadata": {},
   "outputs": [
    {
     "name": "stdout",
     "output_type": "stream",
     "text": [
      "tensor([75, 39, 66,  ..., 69, 61, 10])\n"
     ]
    }
   ],
   "source": [
    "data=torch.tensor(encode(text),dtype=torch.long)\n",
    "print(data)"
   ]
  },
  {
   "cell_type": "code",
   "execution_count": 8,
   "id": "4fdab06e-e334-46f3-820b-f829f7b4b91a",
   "metadata": {},
   "outputs": [],
   "source": [
    "n= int(0.9* len(data))\n",
    "train_data= data[:n]\n",
    "val_data=data[n:]"
   ]
  },
  {
   "cell_type": "code",
   "execution_count": 9,
   "id": "16b63998-df67-4ddf-a3bd-8fef119fe1d4",
   "metadata": {},
   "outputs": [
    {
     "data": {
      "text/plain": [
       "tensor([75, 39, 66, 63, 52, 69, 51, 53, 52])"
      ]
     },
     "execution_count": 9,
     "metadata": {},
     "output_type": "execute_result"
    }
   ],
   "source": [
    "block_size=8\n",
    "train_data[:block_size+1]"
   ]
  },
  {
   "cell_type": "code",
   "execution_count": 10,
   "id": "25312b94-6761-4c77-91cb-e5c52e04fdaa",
   "metadata": {},
   "outputs": [
    {
     "name": "stdout",
     "output_type": "stream",
     "text": [
      "when i/p is tensor([75]) the target is 39\n",
      "when i/p is tensor([75, 39]) the target is 66\n",
      "when i/p is tensor([75, 39, 66]) the target is 63\n",
      "when i/p is tensor([75, 39, 66, 63]) the target is 52\n",
      "when i/p is tensor([75, 39, 66, 63, 52]) the target is 69\n",
      "when i/p is tensor([75, 39, 66, 63, 52, 69]) the target is 51\n",
      "when i/p is tensor([75, 39, 66, 63, 52, 69, 51]) the target is 53\n",
      "when i/p is tensor([75, 39, 66, 63, 52, 69, 51, 53]) the target is 52\n"
     ]
    }
   ],
   "source": [
    "x=train_data[:block_size]\n",
    "y=train_data[1:block_size+1]\n",
    "for t in range(block_size):\n",
    "    context=x[:t+1]\n",
    "    target=y[t]\n",
    "    print(f'when i/p is {context} the target is {target}')"
   ]
  },
  {
   "cell_type": "code",
   "execution_count": 11,
   "id": "2f3b11ff-8a7e-4ea6-93b4-ddf343b4834d",
   "metadata": {},
   "outputs": [
    {
     "name": "stdout",
     "output_type": "stream",
     "text": [
      "inputs:\n",
      "torch.Size([4, 8])\n",
      "tensor([[52,  1, 56, 57, 67,  1, 56, 53],\n",
      "        [ 1, 51, 49, 62,  5, 68,  1, 59],\n",
      "        [51, 63, 70, 53, 66, 53, 52,  1],\n",
      "        [56, 53, 66, 53,  1, 57, 67,  1]])\n",
      "targets:\n",
      "torch.Size([4, 8])\n",
      "tensor([[ 1, 56, 57, 67,  1, 56, 53, 49],\n",
      "        [51, 49, 62,  5, 68,  1, 59, 53],\n",
      "        [63, 70, 53, 66, 53, 52,  1, 56],\n",
      "        [53, 66, 53,  1, 57, 67,  1, 49]])\n",
      "when input is[52] the target: 1\n",
      "when input is[52, 1] the target: 56\n",
      "when input is[52, 1, 56] the target: 57\n",
      "when input is[52, 1, 56, 57] the target: 67\n",
      "when input is[52, 1, 56, 57, 67] the target: 1\n",
      "when input is[52, 1, 56, 57, 67, 1] the target: 56\n",
      "when input is[52, 1, 56, 57, 67, 1, 56] the target: 53\n",
      "when input is[52, 1, 56, 57, 67, 1, 56, 53] the target: 49\n",
      "when input is[1] the target: 51\n",
      "when input is[1, 51] the target: 49\n",
      "when input is[1, 51, 49] the target: 62\n",
      "when input is[1, 51, 49, 62] the target: 5\n",
      "when input is[1, 51, 49, 62, 5] the target: 68\n",
      "when input is[1, 51, 49, 62, 5, 68] the target: 1\n",
      "when input is[1, 51, 49, 62, 5, 68, 1] the target: 59\n",
      "when input is[1, 51, 49, 62, 5, 68, 1, 59] the target: 53\n",
      "when input is[51] the target: 63\n",
      "when input is[51, 63] the target: 70\n",
      "when input is[51, 63, 70] the target: 53\n",
      "when input is[51, 63, 70, 53] the target: 66\n",
      "when input is[51, 63, 70, 53, 66] the target: 53\n",
      "when input is[51, 63, 70, 53, 66, 53] the target: 52\n",
      "when input is[51, 63, 70, 53, 66, 53, 52] the target: 1\n",
      "when input is[51, 63, 70, 53, 66, 53, 52, 1] the target: 56\n",
      "when input is[56] the target: 53\n",
      "when input is[56, 53] the target: 66\n",
      "when input is[56, 53, 66] the target: 53\n",
      "when input is[56, 53, 66, 53] the target: 1\n",
      "when input is[56, 53, 66, 53, 1] the target: 57\n",
      "when input is[56, 53, 66, 53, 1, 57] the target: 67\n",
      "when input is[56, 53, 66, 53, 1, 57, 67] the target: 1\n",
      "when input is[56, 53, 66, 53, 1, 57, 67, 1] the target: 49\n"
     ]
    }
   ],
   "source": [
    "torch.manual_seed(1337)\n",
    "batch_size=4 #for parallel processing by gpu\n",
    "block_size=8 # maximum context length\n",
    "def get_batch(split):\n",
    "    #generate small batch of data of inputs x and targets y\n",
    "    data= train_data if split == 'train' else val_data\n",
    "    ix=torch.randint(len(data)-block_size,(batch_size,))\n",
    "    x= torch.stack([data[i:i+block_size]for i in ix])\n",
    "    y=torch.stack([data[i+1:i+block_size+1]for i in ix])\n",
    "    return x,y\n",
    "\n",
    "\n",
    "xb,yb= get_batch('train')\n",
    "print('inputs:')\n",
    "print(xb.shape)\n",
    "print(xb)\n",
    "print('targets:')\n",
    "print(yb.shape)\n",
    "print(yb)\n",
    "\n",
    "for b in range(batch_size):# batch dimension\n",
    "    for t in range(block_size):# time aspect\n",
    "        context= xb[b, :t+1]\n",
    "        target = yb[b,t]\n",
    "        print(f'when input is{context.tolist()} the target: {target}')\n",
    "        "
   ]
  },
  {
   "cell_type": "code",
   "execution_count": 12,
   "id": "3d14e343-3cf2-4fb0-9943-91d030cbd4ba",
   "metadata": {},
   "outputs": [
    {
     "name": "stdout",
     "output_type": "stream",
     "text": [
      "tensor([[52,  1, 56, 57, 67,  1, 56, 53],\n",
      "        [ 1, 51, 49, 62,  5, 68,  1, 59],\n",
      "        [51, 63, 70, 53, 66, 53, 52,  1],\n",
      "        [56, 53, 66, 53,  1, 57, 67,  1]])\n"
     ]
    }
   ],
   "source": [
    "print(xb)#i/p"
   ]
  },
  {
   "cell_type": "code",
   "execution_count": 13,
   "id": "7d694c46-7516-4867-968f-9b555b6bcf00",
   "metadata": {},
   "outputs": [
    {
     "name": "stdout",
     "output_type": "stream",
     "text": [
      "Logits shape: torch.Size([32, 76])\n",
      "Loss: 4.784965991973877\n",
      "Generated sequence: tensor([[ 0, 75,  2, 12, 54, 45,  4, 51, 31, 15, 39, 52, 22, 42, 17, 70, 45,  6,\n",
      "         34, 24, 14, 32,  3, 26, 47, 36,  7,  5, 35, 20, 30, 68, 71, 44, 20, 40,\n",
      "         51, 27, 65, 27, 46, 18,  7,  4, 72, 50, 21, 36, 29, 17, 61, 11,  1, 39,\n",
      "         16, 35, 47, 34, 26, 67, 28,  8, 62, 57, 58, 28, 74,  3, 47, 31, 66, 50,\n",
      "         69, 64, 56,  5, 56, 50, 74, 11, 56, 33,  3, 67, 12, 21, 28, 26,  1, 41,\n",
      "         69, 72, 55, 67, 15, 49, 37, 34,  5, 69, 64]])\n"
     ]
    }
   ],
   "source": [
    "import torch\n",
    "import torch.nn as nn\n",
    "from torch.nn import functional as F\n",
    "torch.manual_seed(1337)\n",
    "\n",
    "device = torch.device(\"cuda\" if torch.cuda.is_available() else \"cpu\")\n",
    "\n",
    "class BigramLanguageModel(nn.Module):\n",
    "    def __init__(self, vocab_size):\n",
    "        super().__init__()\n",
    "        # Each token reads off the logits for the next token from the lookup table\n",
    "        self.token_embedding_table = nn.Embedding(vocab_size, vocab_size)\n",
    "        self.position_embedding_table = nn.Embedding(100, vocab_size)\n",
    "        self.lm_head = nn.Linear(vocab_size, vocab_size)\n",
    "    \n",
    "    def forward(self, idx, targets=None):\n",
    "        idx = idx.to(device).long()\n",
    "        tok_emb = self.token_embedding_table(idx)  # (Batch, Time, Channel)\n",
    "        B, T, C = tok_emb.shape\n",
    "        pos_emb = self.position_embedding_table(torch.arange(T, device=idx.device))  # (Time, Channel)\n",
    "        x = tok_emb + pos_emb  # (B, T, C)\n",
    "        logits = self.lm_head(x)  # (Batch, Time, Vocab_size)\n",
    "        \n",
    "        if targets is not None:\n",
    "            targets = targets.to(device).view(B * T)\n",
    "            logits = logits.view(B * T, C)\n",
    "            loss = F.cross_entropy(logits, targets)\n",
    "            return logits, loss\n",
    "        \n",
    "        return logits\n",
    "\n",
    "    def generate(self, idx, max_new_tokens):\n",
    "        idx = idx.to(device).long()\n",
    "        for _ in range(max_new_tokens):\n",
    "            logits = self(idx)  # (B, T, C)\n",
    "            logits = logits[:, -1, :]  # (B, C)\n",
    "            probs = F.softmax(logits, dim=-1)  # (B, C)\n",
    "            idx_next = torch.multinomial(probs, num_samples=1)  # (B, 1)\n",
    "            idx = torch.cat((idx, idx_next), dim=1)  # Append to the sequence\n",
    "        return idx\n",
    "\n",
    "# Sample input data\n",
    "#vocab_size = 100\n",
    "#B, T = 4, 8\n",
    "#xb = torch.randint(0, vocab_size, (B, T)).to(device)\n",
    "#yb = torch.randint(0, vocab_size, (B, T)).to(device)\n",
    "\n",
    "# Initialize the model\n",
    "m = BigramLanguageModel(vocab_size).to(device)\n",
    "\n",
    "# Forward pass\n",
    "logits, loss = m(xb, yb)\n",
    "print(f\"Logits shape: {logits.shape}\")  # Should print: torch.Size([32, 100])\n",
    "print(f\"Loss: {loss}\")  # Should print the loss value\n",
    "\n",
    "# Generate new tokens\n",
    "idx = torch.zeros(1, 1, dtype=torch.long).to(device)\n",
    "generated = m.generate(idx, max_new_tokens=100)\n",
    "print(f\"Generated sequence: {generated}\")\n"
   ]
  },
  {
   "cell_type": "code",
   "execution_count": 14,
   "id": "bdf26a3e-90d1-49e0-a622-6c06e69b7a74",
   "metadata": {},
   "outputs": [],
   "source": [
    "#training the model\n",
    "#pytorch optimizer\n",
    "optimizer= torch. optim.AdamW(m.parameters(), lr=1e-3)"
   ]
  },
  {
   "cell_type": "code",
   "execution_count": 15,
   "id": "0ebd71ac-119a-4547-8a05-4ba2b2442b19",
   "metadata": {},
   "outputs": [
    {
     "name": "stdout",
     "output_type": "stream",
     "text": [
      "2.387505292892456\n"
     ]
    }
   ],
   "source": [
    "batch_size=32\n",
    "for steps in range (100000):\n",
    "    # sample a batch of data\n",
    "    xb,yb = get_batch('train')\n",
    "\n",
    "    # eval of loss\n",
    "    logits, loss= m(xb, yb)\n",
    "    optimizer.zero_grad(set_to_none=True)\n",
    "    loss.backward()\n",
    "    optimizer.step()\n",
    "\n",
    "print(loss.item())"
   ]
  },
  {
   "cell_type": "markdown",
   "id": "ee904c0e-5e22-491e-95e9-9c261903f21d",
   "metadata": {},
   "source": [
    "## Math trick for self-attention\n"
   ]
  },
  {
   "cell_type": "code",
   "execution_count": 17,
   "id": "f4218227-464f-49f3-976f-6c5fea93ca36",
   "metadata": {},
   "outputs": [
    {
     "data": {
      "text/plain": [
       "torch.Size([4, 8, 2])"
      ]
     },
     "execution_count": 17,
     "metadata": {},
     "output_type": "execute_result"
    }
   ],
   "source": [
    "#set up a means for tokens to communicate\n",
    "torch.manual_seed(1337)\n",
    "\n",
    "B,T,C = 4,8,2 # batch time and channels\n",
    "x = torch.randn(B,T,C)\n",
    "x.shape\n"
   ]
  },
  {
   "cell_type": "code",
   "execution_count": 18,
   "id": "d3cb04ee-6da5-40e9-832e-a8afd2f30e53",
   "metadata": {},
   "outputs": [],
   "source": [
    "# to get x[b,t] = avg(mean {i<=t} x[b,i])\n",
    "\n",
    "xbow = torch.zeros((B,T,C))     #bag of words|| avg\n",
    "for b in range(B):\n",
    "    for t in range(T):\n",
    "        xprev= x[b,:t+1] #(t,C)\n",
    "        xbow[b,t]= torch.mean(xprev,0)"
   ]
  },
  {
   "cell_type": "code",
   "execution_count": 19,
   "id": "efba4be9-b661-433d-827b-c47d8a92e514",
   "metadata": {},
   "outputs": [
    {
     "name": "stdout",
     "output_type": "stream",
     "text": [
      "a:\n",
      "tensor([[1.0000, 0.0000, 0.0000],\n",
      "        [0.5000, 0.5000, 0.0000],\n",
      "        [0.3333, 0.3333, 0.3333]])\n",
      "--\n",
      "b:\n",
      "tensor([[5., 7.],\n",
      "        [2., 0.],\n",
      "        [5., 3.]])\n",
      "--\n",
      "c:\n",
      "tensor([[5.0000, 7.0000],\n",
      "        [3.5000, 3.5000],\n",
      "        [4.0000, 3.3333]])\n",
      "--\n"
     ]
    }
   ],
   "source": [
    "#using matrix multiplication\n",
    "torch.manual_seed(1337)\n",
    "a= torch.tril(torch.ones(3,3))\n",
    "a= a/ torch.sum(a,1,keepdim=True)\n",
    "b=torch.randint(0,10,(3,2)).float()\n",
    "c=a@b\n",
    "print(f\"a:\\n{a}\\n--\")\n",
    "print(f\"b:\\n{b}\\n--\")\n",
    "print(f\"c:\\n{c}\\n--\")"
   ]
  },
  {
   "cell_type": "code",
   "execution_count": 20,
   "id": "c60107a4-f72e-495a-8349-b196e47609ed",
   "metadata": {},
   "outputs": [],
   "source": [
    "#version 2:\n",
    "\n",
    "wei= torch.tril(torch.ones(T,T))\n",
    "wei = wei/ wei.sum(1, keepdim=True)\n",
    "xbow2= wei @ x # (T,T) @ (B,T,C)---->(b,t,c)\n",
    "#------>torch.allclose(xbow,xbow2)"
   ]
  },
  {
   "cell_type": "code",
   "execution_count": 21,
   "id": "3aeb6cfa-2f87-4a3a-9f2b-4908e3100372",
   "metadata": {},
   "outputs": [],
   "source": [
    "#version 3: use softmax\n",
    "\n",
    "tril=torch.tril(torch.ones(T,T))\n",
    "wei= torch.zeros((T,T))\n",
    "wei= wei.masked_fill(tril==0, float('inf'))\n",
    "wei=F.softmax(wei,dim=-1)\n",
    "xbow3=wei@x"
   ]
  },
  {
   "cell_type": "code",
   "execution_count": 22,
   "id": "373951ab-54e4-4ee5-aa21-3bd81ef98ee6",
   "metadata": {},
   "outputs": [
    {
     "data": {
      "text/plain": [
       "torch.Size([4, 8, 16])"
      ]
     },
     "execution_count": 22,
     "metadata": {},
     "output_type": "execute_result"
    }
   ],
   "source": [
    "# version 4: self-attention\n",
    "torch.manual_seed(1337)\n",
    "\n",
    "B,T,C=4,8,32 # batch, time and channels\n",
    "x=torch.randn(B,T,C)\n",
    "\n",
    "#a single head's performance in self attention\n",
    "head_size=16\n",
    "key= nn.Linear(C,head_size, bias=False)\n",
    "query= nn.Linear(C,head_size, bias=False)\n",
    "value= nn.Linear(C,head_size, bias=False)\n",
    "k=key(x) #(B,T,16)\n",
    "q=query(x) #(B,T,16)\n",
    "\n",
    "wei= q@ k.transpose(-2,-1) #-->(B,T,16) @ (B,16,T)-->(B,T,T))\n",
    "\n",
    "\n",
    "tril=torch.tril(torch.ones(T,T))\n",
    "#wei=torch.zeros((T,T))\n",
    "wei=wei.masked_fill(tril==0, float('-inf'))\n",
    "wei=F.softmax(wei,dim=-1)\n",
    "v=value(x)\n",
    "out=wei@v\n",
    "#out= wei@ x\n",
    "out. shape"
   ]
  },
  {
   "cell_type": "code",
   "execution_count": 23,
   "id": "bcd30c1b-791c-4df4-a8b3-4839a3ad1706",
   "metadata": {},
   "outputs": [
    {
     "data": {
      "text/plain": [
       "tensor([[1., 0., 0., 0., 0., 0., 0., 0.],\n",
       "        [1., 1., 0., 0., 0., 0., 0., 0.],\n",
       "        [1., 1., 1., 0., 0., 0., 0., 0.],\n",
       "        [1., 1., 1., 1., 0., 0., 0., 0.],\n",
       "        [1., 1., 1., 1., 1., 0., 0., 0.],\n",
       "        [1., 1., 1., 1., 1., 1., 0., 0.],\n",
       "        [1., 1., 1., 1., 1., 1., 1., 0.],\n",
       "        [1., 1., 1., 1., 1., 1., 1., 1.]])"
      ]
     },
     "execution_count": 23,
     "metadata": {},
     "output_type": "execute_result"
    }
   ],
   "source": [
    "tril"
   ]
  },
  {
   "cell_type": "code",
   "execution_count": 24,
   "id": "4c852402-e5f8-476d-b36d-a0a811d4b740",
   "metadata": {},
   "outputs": [
    {
     "data": {
      "text/plain": [
       "tensor([[[1.0000, 0.0000, 0.0000, 0.0000, 0.0000, 0.0000, 0.0000, 0.0000],\n",
       "         [0.1574, 0.8426, 0.0000, 0.0000, 0.0000, 0.0000, 0.0000, 0.0000],\n",
       "         [0.2088, 0.1646, 0.6266, 0.0000, 0.0000, 0.0000, 0.0000, 0.0000],\n",
       "         [0.5792, 0.1187, 0.1889, 0.1131, 0.0000, 0.0000, 0.0000, 0.0000],\n",
       "         [0.0294, 0.1052, 0.0469, 0.0276, 0.7909, 0.0000, 0.0000, 0.0000],\n",
       "         [0.0176, 0.2689, 0.0215, 0.0089, 0.6812, 0.0019, 0.0000, 0.0000],\n",
       "         [0.1691, 0.4066, 0.0438, 0.0416, 0.1048, 0.2012, 0.0329, 0.0000],\n",
       "         [0.0210, 0.0843, 0.0555, 0.2297, 0.0573, 0.0709, 0.2423, 0.2391]],\n",
       "\n",
       "        [[1.0000, 0.0000, 0.0000, 0.0000, 0.0000, 0.0000, 0.0000, 0.0000],\n",
       "         [0.1687, 0.8313, 0.0000, 0.0000, 0.0000, 0.0000, 0.0000, 0.0000],\n",
       "         [0.2477, 0.0514, 0.7008, 0.0000, 0.0000, 0.0000, 0.0000, 0.0000],\n",
       "         [0.4410, 0.0957, 0.3747, 0.0887, 0.0000, 0.0000, 0.0000, 0.0000],\n",
       "         [0.0069, 0.0456, 0.0300, 0.7748, 0.1427, 0.0000, 0.0000, 0.0000],\n",
       "         [0.0660, 0.0892, 0.0413, 0.6316, 0.1649, 0.0069, 0.0000, 0.0000],\n",
       "         [0.0396, 0.2288, 0.0090, 0.2000, 0.2061, 0.1949, 0.1217, 0.0000],\n",
       "         [0.3650, 0.0474, 0.0767, 0.0293, 0.3084, 0.0784, 0.0455, 0.0493]],\n",
       "\n",
       "        [[1.0000, 0.0000, 0.0000, 0.0000, 0.0000, 0.0000, 0.0000, 0.0000],\n",
       "         [0.4820, 0.5180, 0.0000, 0.0000, 0.0000, 0.0000, 0.0000, 0.0000],\n",
       "         [0.1705, 0.4550, 0.3745, 0.0000, 0.0000, 0.0000, 0.0000, 0.0000],\n",
       "         [0.0074, 0.7444, 0.0477, 0.2005, 0.0000, 0.0000, 0.0000, 0.0000],\n",
       "         [0.8359, 0.0416, 0.0525, 0.0580, 0.0119, 0.0000, 0.0000, 0.0000],\n",
       "         [0.1195, 0.2061, 0.1019, 0.1153, 0.1814, 0.2758, 0.0000, 0.0000],\n",
       "         [0.0065, 0.0589, 0.0372, 0.3063, 0.1325, 0.3209, 0.1378, 0.0000],\n",
       "         [0.1416, 0.1519, 0.0384, 0.1643, 0.1207, 0.1254, 0.0169, 0.2408]],\n",
       "\n",
       "        [[1.0000, 0.0000, 0.0000, 0.0000, 0.0000, 0.0000, 0.0000, 0.0000],\n",
       "         [0.6369, 0.3631, 0.0000, 0.0000, 0.0000, 0.0000, 0.0000, 0.0000],\n",
       "         [0.2586, 0.7376, 0.0038, 0.0000, 0.0000, 0.0000, 0.0000, 0.0000],\n",
       "         [0.4692, 0.3440, 0.1237, 0.0631, 0.0000, 0.0000, 0.0000, 0.0000],\n",
       "         [0.1865, 0.4680, 0.0353, 0.1854, 0.1248, 0.0000, 0.0000, 0.0000],\n",
       "         [0.0828, 0.7479, 0.0017, 0.0735, 0.0712, 0.0228, 0.0000, 0.0000],\n",
       "         [0.0522, 0.0517, 0.0961, 0.0375, 0.1024, 0.5730, 0.0872, 0.0000],\n",
       "         [0.0306, 0.2728, 0.0333, 0.1409, 0.1414, 0.0582, 0.0825, 0.2402]]],\n",
       "       grad_fn=<SoftmaxBackward0>)"
      ]
     },
     "execution_count": 24,
     "metadata": {},
     "output_type": "execute_result"
    }
   ],
   "source": [
    "wei"
   ]
  },
  {
   "cell_type": "code",
   "execution_count": 25,
   "id": "752e449c-ebde-4ca1-9835-d8876e89b638",
   "metadata": {},
   "outputs": [],
   "source": [
    "k = torch.randn(B,T,head_size)\n",
    "q = torch.randn(B,T,head_size)\n",
    "wei = q @ k.transpose(-2, -1) * head_size**-0.5"
   ]
  },
  {
   "cell_type": "code",
   "execution_count": 26,
   "id": "1ba080e0-a62b-4129-b000-86ae780aee93",
   "metadata": {},
   "outputs": [
    {
     "data": {
      "text/plain": [
       "tensor(1.0449)"
      ]
     },
     "execution_count": 26,
     "metadata": {},
     "output_type": "execute_result"
    }
   ],
   "source": [
    "k.var()"
   ]
  },
  {
   "cell_type": "code",
   "execution_count": 27,
   "id": "62352697-3c3b-451a-b7f1-2a087284cb92",
   "metadata": {},
   "outputs": [
    {
     "data": {
      "text/plain": [
       "tensor(1.0700)"
      ]
     },
     "execution_count": 27,
     "metadata": {},
     "output_type": "execute_result"
    }
   ],
   "source": [
    "q.var()"
   ]
  },
  {
   "cell_type": "code",
   "execution_count": 28,
   "id": "86c04eb3-dc41-4252-b390-b63dde296eb8",
   "metadata": {},
   "outputs": [
    {
     "data": {
      "text/plain": [
       "tensor(1.0918)"
      ]
     },
     "execution_count": 28,
     "metadata": {},
     "output_type": "execute_result"
    }
   ],
   "source": [
    "wei.var()"
   ]
  },
  {
   "cell_type": "code",
   "execution_count": 29,
   "id": "e10a073f-afbc-4d6b-9534-e5f0fb95f76a",
   "metadata": {},
   "outputs": [
    {
     "data": {
      "text/plain": [
       "tensor([0.1925, 0.1426, 0.2351, 0.1426, 0.2872])"
      ]
     },
     "execution_count": 29,
     "metadata": {},
     "output_type": "execute_result"
    }
   ],
   "source": [
    "torch.softmax(torch.tensor([0.1, -0.2, 0.3, -0.2, 0.5]), dim=-1)"
   ]
  },
  {
   "cell_type": "code",
   "execution_count": 30,
   "id": "99cc6554-4531-4213-a455-1d1302fa6c75",
   "metadata": {},
   "outputs": [
    {
     "data": {
      "text/plain": [
       "tensor([0.0326, 0.0030, 0.1615, 0.0030, 0.8000])"
      ]
     },
     "execution_count": 30,
     "metadata": {},
     "output_type": "execute_result"
    }
   ],
   "source": [
    "torch.softmax(torch.tensor([0.1, -0.2, 0.3, -0.2, 0.5])*8, dim=-1) # gets too peaky, converges to one-hot"
   ]
  },
  {
   "cell_type": "code",
   "execution_count": 31,
   "id": "45c2d305-9e08-4082-8d14-ec52d1fa4d4e",
   "metadata": {},
   "outputs": [
    {
     "data": {
      "text/plain": [
       "torch.Size([32, 100])"
      ]
     },
     "execution_count": 31,
     "metadata": {},
     "output_type": "execute_result"
    }
   ],
   "source": [
    "class LayerNorm1d: # implementing Layernorm\n",
    "\n",
    "  def __init__(self, dim, eps=1e-5, momentum=0.1):\n",
    "    self.eps = eps\n",
    "    self.gamma = torch.ones(dim)\n",
    "    self.beta = torch.zeros(dim)\n",
    "\n",
    "  def __call__(self, x):\n",
    "    # calculate the forward pass\n",
    "    xmean = x.mean(1, keepdim=True) #mean\n",
    "    xvar = x.var(1, keepdim=True) # batch variance\n",
    "    xhat = (x - xmean) / torch.sqrt(xvar + self.eps) # normalise to unit variance\n",
    "    self.out = self.gamma * xhat + self.beta\n",
    "    return self.out\n",
    "\n",
    "  def parameters(self):\n",
    "    return [self.gamma, self.beta]\n",
    "\n",
    "torch.manual_seed(1337)\n",
    "module = LayerNorm1d(100)\n",
    "x = torch.randn(32, 100) # batch size 32 of 100-dimensional vectors\n",
    "x = module(x)\n",
    "x.shape"
   ]
  },
  {
   "cell_type": "code",
   "execution_count": 32,
   "id": "c2b621fe-a00c-4a16-ba8c-d8a24150e1bc",
   "metadata": {},
   "outputs": [
    {
     "data": {
      "text/plain": [
       "(tensor(0.1469), tensor(0.8803))"
      ]
     },
     "execution_count": 32,
     "metadata": {},
     "output_type": "execute_result"
    }
   ],
   "source": [
    "x[:,0].mean(), x[:,0].std() # mean,std of one feature across all batch inputs"
   ]
  },
  {
   "cell_type": "code",
   "execution_count": 33,
   "id": "6d01479f-18c4-4241-8946-463b3b31ccaa",
   "metadata": {},
   "outputs": [
    {
     "data": {
      "text/plain": [
       "(tensor(-9.5367e-09), tensor(1.0000))"
      ]
     },
     "execution_count": 33,
     "metadata": {},
     "output_type": "execute_result"
    }
   ],
   "source": [
    "x[0,:].mean(), x[0,:].std() # mean,std of a single input from the batch, of its features"
   ]
  }
 ],
 "metadata": {
  "kernelspec": {
   "display_name": "Python 3",
   "language": "python",
   "name": "python3"
  },
  "language_info": {
   "codemirror_mode": {
    "name": "ipython",
    "version": 3
   },
   "file_extension": ".py",
   "mimetype": "text/x-python",
   "name": "python",
   "nbconvert_exporter": "python",
   "pygments_lexer": "ipython3",
   "version": "3.12.4"
  }
 },
 "nbformat": 4,
 "nbformat_minor": 5
}
